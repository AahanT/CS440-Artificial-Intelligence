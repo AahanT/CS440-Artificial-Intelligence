{
 "cells": [
  {
   "cell_type": "markdown",
   "metadata": {},
   "source": [
    "# CS440/ECE448 Spring 2023\n",
    "# MP04: Neural Networks"
   ]
  },
  {
   "cell_type": "markdown",
   "metadata": {},
   "source": [
    "The first thing you need to do is to download this file: <a href=\"mp04.zip\">mp04.zip</a>.  It has the following content:\n",
    "\n",
    "* `submitted.py`: Your homework. Edit, and then submit to <a href=\"https://www.gradescope.com/courses/486387\">Gradescope</a>.\n",
    "* `mp04_notebook.ipynb`: This is a <a href=\"https://anaconda.org/anaconda/jupyter\">Jupyter</a> notebook to help you debug.  You can completely ignore it if you want, although you might find that it gives you useful instructions.\n",
    "* *__`pytorch_tutorial.ipynb`__*: A general introduction to PyTorch. You can ignore it if you want. \n",
    "* `data`: This directory contains the data.\n",
    "* `tests`: This directory contains visible test.\n",
    "* `reader.py`: This is an auxiliary program that you can use to read the data.\n",
    "\n",
    "You will need to import `torch` and `numpy`. Otherwise, you should use only modules from the standard python library. `Do not use torchvision`.\n",
    "\n",
    "The autograder doesn't have a GPU, so it will fail if you attempt to use `CUDA`."
   ]
  },
  {
   "cell_type": "markdown",
   "metadata": {},
   "source": [
    "This file (`mp04_notebook.ipynb`) will walk you through the whole MP, giving you instructions and debugging tips as you go.\n",
    "\n",
    "### Goal\n",
    "The goal of this assignment is to employ neural networks, nonlinear and multi-layer extensions of the linear perceptron, to classify images into `5 categories: ship (0), automobile (1), dog (2), frog (3), or horse (4)`. That is, your ultimate goal is to create a classifier that can tell what each picture depicts.\n",
    "\n",
    "You will be using `PyTorch` (one of the most commonly used machine learning framworks) and NumPy libraries to implement these models. The PyTorch library will do most of the heavy lifting for you, but it is still up to you to implement the right high-level instructions to train the model.\n",
    "\n",
    "You will need to consult the PyTorch documentation, to help you with implementation details. You may want to take a look at the provided PyTorch tutorial.\n",
    "\n",
    "### Table of Contents\n",
    "\n",
    "1. <a href=\"#section1\">Dataset</a>\n",
    "1. <a href=\"#section2\">Dataloader</a>\n",
    "1. <a href=\"#section3\">Confusion Matrix</a>\n",
    "1. <a href=\"#section4\">Neural Network</a>\n",
    "1. <a href=\"#grade\">Grade Your Homework</a>\n",
    "1. <a href=\"#extra\">Extra credit</a>"
   ]
  },
  {
   "cell_type": "markdown",
   "metadata": {},
   "source": [
    "<a id='section1'></a>\n",
    "## Dataset\n",
    "\n",
    "This section aims to help you get some ideas of the datasets we are using. Note that in this MP we have provided dataloaders for you, so you `do not need` to load any datasets by yourself.\n",
    "\n",
    "The dataset consists of `3750` 31x31 colored (RGB) images (a modified subset of the [CIFAR-10 dataset](https://www.cs.toronto.edu/~kriz/cifar.html), provided by Alex Krizhevsky). This set is split for you into `2813` training examples and `937` development examples.\n",
    "\n",
    "The function Load_dataset() in reader.py will unpack the dataset file (*you don't need to call this function in the MP*), returning images and labels for the training and development sets. Note that the images have been flattened, therefore the dimension of one image sample is `2883` (31 x 31 x 3)."
   ]
  },
  {
   "cell_type": "code",
   "execution_count": 13,
   "metadata": {},
   "outputs": [],
   "source": [
    "import reader"
   ]
  },
  {
   "cell_type": "code",
   "execution_count": 14,
   "metadata": {},
   "outputs": [
    {
     "name": "stdout",
     "output_type": "stream",
     "text": [
      "Shape of train set: (2813, 2883)\n",
      "Shape of test set: (937, 2883)\n"
     ]
    }
   ],
   "source": [
    "# filepath to data\n",
    "filepath = \"./data/mp_data\"\n",
    "# load datasets, you don't need to call this function in the MP\n",
    "train_set, train_labels, test_set, test_labels = reader.Load_dataset(filepath)\n",
    "print(\"Shape of train set:\", train_set.shape)\n",
    "print(\"Shape of test set:\", test_set.shape)"
   ]
  },
  {
   "cell_type": "code",
   "execution_count": 15,
   "metadata": {},
   "outputs": [],
   "source": [
    "# helper functions to visualize images, you can ignore the implementations\n",
    "\n",
    "import matplotlib.pyplot as plt\n",
    "from PIL import Image\n",
    "import numpy as np\n",
    "\n",
    "names = {0: \"ship\", 1: \"automobile\", 2: \"dog\", 3: \"frog\", 4: \"horse\"}\n",
    "\n",
    "def show_train_image(index):\n",
    "    img_c1 = Image.fromarray(train_set[index][: 961].reshape(31, 31))\n",
    "    img_c2 = Image.fromarray(train_set[index][961: 1922].reshape(31, 31))\n",
    "    img_c3 = Image.fromarray(train_set[index][1922: ].reshape(31, 31))\n",
    "    img_rgb = np.zeros((31, 31, 3), 'uint8')\n",
    "    img_rgb[..., 0] = img_c1\n",
    "    img_rgb[..., 1] = img_c2\n",
    "    img_rgb[..., 2] = img_c3\n",
    "    fig = plt.figure()\n",
    "    plt.axis('off')\n",
    "    plt.imshow(img_rgb)\n",
    "    title = \"Train[\" + str(index) + \"]  --  \" + names[train_labels[index].item()] + \" -- label \" + str(train_labels[index].item())\n",
    "    plt.title(title)\n",
    "\n",
    "def show_test_image(index):\n",
    "    img_c1 = Image.fromarray(test_set[index][: 961].reshape(31, 31))\n",
    "    img_c2 = Image.fromarray(test_set[index][961: 1922].reshape(31, 31))\n",
    "    img_c3 = Image.fromarray(test_set[index][1922: ].reshape(31, 31))\n",
    "    img_rgb = np.zeros((31, 31, 3), 'uint8')\n",
    "    img_rgb[..., 0] = img_c1\n",
    "    img_rgb[..., 1] = img_c2\n",
    "    img_rgb[..., 2] = img_c3\n",
    "    fig = plt.figure()\n",
    "    plt.axis('off')\n",
    "    plt.imshow(img_rgb)\n",
    "    title = \"Test[\" + str(index) + \"]  --  \" + names[test_labels[index].item()] + \" -- label \" + str(test_labels[index].item())\n",
    "    plt.imshow(img_rgb)\n",
    "    plt.title(title)"
   ]
  },
  {
   "cell_type": "code",
   "execution_count": 16,
   "metadata": {},
   "outputs": [
    {
     "data": {
      "image/png": "[encoded data removed]",
      "text/plain": [
       "<Figure size 432x288 with 1 Axes>"
      ]
     },
     "metadata": {
      "needs_background": "light"
     },
     "output_type": "display_data"
    }
   ],
   "source": [
    "# You can use the helper function to visualize training set. The parameter is the index of image to visualize.\n",
    "show_train_image(2812)      # feel free to change the number. note that the size of training set is 2813"
   ]
  },
  {
   "cell_type": "code",
   "execution_count": 17,
   "metadata": {},
   "outputs": [
    {
     "data": {
      "image/png": "[encoded data removed]",
      "text/plain": [
       "<Figure size 432x288 with 1 Axes>"
      ]
     },
     "metadata": {
      "needs_background": "light"
     },
     "output_type": "display_data"
    }
   ],
   "source": [
    "# You can use the helper function to visualize testing set. The parameter is the index of image to visualize.\n",
    "show_test_image(20)     # feel free to change the number. note that the size of testing size is 937"
   ]
  },
  {
   "cell_type": "markdown",
   "metadata": {},
   "source": [
    "<a id='section2'></a>\n",
    "## Dataloaders\n",
    "\n",
    "If you are not sure what dataloaders are, please refer to the tutorial or PyTorch document. With dataloaders, you can iterate through the datasets easily.In this MP, we have provided dataloaders for training set and testing set, respectively. "
   ]
  },
  {
   "cell_type": "code",
   "execution_count": 18,
   "metadata": {},
   "outputs": [],
   "source": [
    "# Generate dataloaders\n",
    "# you don't need to call these functions in MP, train_loader and test_loader are passed to your function as arguments\n",
    "train_set_p, test_set_p  = reader.Preprocess(train_set, test_set)\n",
    "train_loader, test_loader = reader.Get_DataLoaders(train_set_p, train_labels, test_set_p, test_labels, batch_size=100)"
   ]
  },
  {
   "cell_type": "markdown",
   "metadata": {},
   "source": [
    "Each iteration below returns a batch of train_features and train_labels (in this MP, we set up batch size equal to 100, so each batch contains 100 feature and label tensors respectively). You can pass the feature batch to your neural network, and then compare the label batch with your predictions. Let's iterate over the dataset and see what each batch looks like. \n",
    "\n",
    "Labels:   \n",
    "`ship: 0, automobile: 1, dog: 2, frog: 3, horse: 4`"
   ]
  },
  {
   "cell_type": "code",
   "execution_count": 19,
   "metadata": {},
   "outputs": [
    {
     "name": "stdout",
     "output_type": "stream",
     "text": [
      "Batch # 0\n",
      "Feature shape: torch.Size([100, 2883])\n",
      "tensor([[ 0.3525,  0.3150, -0.6970,  ...,  1.2380,  1.2221,  1.3589],\n",
      "        [ 0.8684,  0.9081,  0.9093,  ...,  1.0154,  1.0167,  0.9519],\n",
      "        [ 0.3932,  0.3839, -0.2262,  ..., -0.6230, -0.5951, -0.5977],\n",
      "        ...,\n",
      "        [-0.4756,  0.1494,  0.5631,  ..., -0.6230, -0.7689, -1.1299],\n",
      "        [ 1.4793,  1.5012,  1.5324,  ...,  0.9199,  0.9219,  0.8737],\n",
      "        [-0.5027, -0.5816, -0.5309,  ...,  1.0631,  1.0483,  0.9989]]) \n",
      "\n",
      "Label shape: torch.Size([100])\n",
      "tensor([0, 0, 0, 3, 1, 1, 0, 1, 4, 4, 4, 2, 1, 0, 3, 4, 1, 1, 3, 1, 1, 4, 1, 1,\n",
      "        4, 4, 3, 2, 0, 4, 2, 1, 0, 1, 0, 3, 0, 1, 0, 4, 4, 0, 4, 0, 3, 2, 2, 3,\n",
      "        4, 2, 3, 3, 1, 2, 3, 3, 2, 2, 2, 2, 1, 0, 4, 0, 3, 3, 0, 3, 1, 0, 0, 2,\n",
      "        1, 3, 0, 0, 2, 4, 3, 2, 3, 2, 2, 3, 3, 2, 0, 3, 4, 0, 1, 0, 3, 1, 0, 0,\n",
      "        4, 2, 0, 1]) \n",
      "\n",
      "\n",
      "Batch # 1\n",
      "Feature shape: torch.Size([100, 2883])\n",
      "tensor([[-1.7381, -1.7541, -1.7771,  ..., -1.7523, -1.7487, -1.7403],\n",
      "        [-0.3127, -0.3333, -0.3647,  ..., -0.2890, -0.3107, -0.3159],\n",
      "        [-1.0594, -1.0368, -1.4863,  ..., -1.4024, -0.6899, -0.7229],\n",
      "        ...,\n",
      "        [ 0.3661,  0.4115,  0.4108,  ...,  0.6018,  0.4320,  0.4510],\n",
      "        [ 1.7237,  1.7633,  1.7539,  ...,  2.3038,  2.2808,  2.2511],\n",
      "        [-0.6249, -0.7609, -0.3232,  ..., -0.4003,  0.2898,  1.3276]]) \n",
      "\n",
      "Label shape: torch.Size([100])\n",
      "tensor([3, 2, 3, 1, 3, 3, 0, 0, 0, 4, 1, 2, 3, 4, 2, 4, 3, 3, 3, 2, 3, 4, 2, 3,\n",
      "        4, 4, 2, 1, 4, 3, 3, 2, 2, 1, 2, 2, 0, 2, 3, 3, 2, 0, 0, 3, 1, 0, 4, 1,\n",
      "        3, 4, 1, 0, 3, 2, 3, 4, 2, 2, 3, 1, 4, 2, 2, 2, 4, 3, 1, 3, 3, 1, 4, 4,\n",
      "        1, 3, 2, 3, 2, 4, 2, 2, 2, 4, 4, 3, 4, 0, 0, 0, 1, 3, 4, 1, 1, 4, 3, 4,\n",
      "        0, 0, 3, 3]) \n",
      "\n",
      "\n",
      "Batch # 2\n",
      "Feature shape: torch.Size([100, 2883])\n",
      "tensor([[ 0.8412,  0.8943,  0.9093,  ...,  1.4766,  1.3643,  1.1084],\n",
      "        [-0.8557, -0.1954, -0.1016,  ...,  1.1426,  1.1747,  1.1084],\n",
      "        [ 0.1353,  0.1632,  0.4938,  ..., -0.0027,  0.0844, -0.0499],\n",
      "        ...,\n",
      "        [ 1.7237,  1.7081,  1.7262,  ..., -1.1956,  1.0641,  1.8911],\n",
      "        [ 0.0403,  0.1494,  0.2584,  ..., -0.6389, -0.6741, -0.7542],\n",
      "        [-0.9507, -1.0230, -1.0294,  ...,  0.7449,  0.2108, -0.1438]]) \n",
      "\n",
      "Label shape: torch.Size([100])\n",
      "tensor([2, 4, 4, 2, 1, 4, 2, 3, 0, 3, 3, 1, 2, 0, 4, 3, 4, 2, 2, 0, 0, 3, 4, 3,\n",
      "        4, 3, 2, 4, 3, 3, 2, 0, 2, 0, 3, 4, 0, 4, 3, 1, 2, 2, 3, 4, 1, 4, 1, 2,\n",
      "        4, 1, 3, 1, 4, 0, 4, 2, 4, 3, 4, 0, 1, 3, 1, 4, 2, 3, 1, 2, 2, 1, 0, 2,\n",
      "        3, 2, 2, 4, 3, 1, 0, 2, 2, 2, 4, 3, 3, 1, 1, 0, 2, 2, 4, 3, 4, 1, 0, 3,\n",
      "        3, 0, 0, 3]) \n",
      "\n",
      "\n",
      "Batch # 3\n",
      "Feature shape: torch.Size([100, 2883])\n",
      "tensor([[ 1.1942,  1.1012,  1.2831,  ..., -0.6230, -0.5161, -0.3003],\n",
      "        [ 1.5743,  1.4599,  1.4078,  ..., -1.3229, -1.3536, -1.3490],\n",
      "        [ 1.6422,  1.6392,  1.6293,  ...,  0.2041,  0.2740,  0.3415],\n",
      "        ...,\n",
      "        [-0.6792, -0.7334, -0.4062,  ...,  0.4745,  0.4952,  0.5293],\n",
      "        [-0.3263, -0.3471, -0.3508,  ..., -0.6230, -0.5951, -0.6916],\n",
      "        [ 0.2982,  0.0805,  0.1615,  ..., -0.9570, -0.8954, -0.8481]]) \n",
      "\n",
      "Label shape: torch.Size([100])\n",
      "tensor([1, 0, 4, 3, 2, 3, 1, 0, 4, 4, 1, 1, 3, 1, 3, 3, 3, 1, 1, 2, 0, 4, 3, 2,\n",
      "        2, 2, 3, 2, 3, 2, 2, 3, 2, 4, 2, 0, 4, 3, 3, 2, 0, 4, 2, 0, 1, 4, 1, 1,\n",
      "        1, 2, 3, 0, 1, 3, 0, 4, 1, 0, 4, 1, 4, 1, 0, 3, 2, 0, 2, 0, 3, 0, 2, 1,\n",
      "        1, 2, 3, 4, 0, 2, 4, 1, 2, 1, 0, 1, 2, 4, 1, 2, 3, 1, 0, 4, 1, 2, 2, 0,\n",
      "        4, 2, 0, 3]) \n",
      "\n",
      "\n",
      "Batch # 4\n",
      "Feature shape: torch.Size([100, 2883])\n",
      "tensor([[ 0.3118,  0.3150,  0.3277,  ...,  2.0811,  2.2176,  1.9380],\n",
      "        [-1.3716, -1.3265, -1.3340,  ..., -1.1797, -1.2904, -1.1612],\n",
      "        [-0.4077, -0.1126, -0.2539,  ..., -0.7980, -0.8005, -1.0203],\n",
      "        ...,\n",
      "        [-0.8286, -0.8023, -0.7801,  ..., -0.8616, -0.9112, -0.2690],\n",
      "        [-0.1226, -0.1126, -0.1431,  ..., -1.2433, -1.2272, -1.1768],\n",
      "        [-0.5978, -0.4851, -0.4201,  ..., -1.3229, -1.3536, -1.3803]]) \n",
      "\n",
      "Label shape: torch.Size([100])\n",
      "tensor([0, 3, 1, 4, 3, 0, 3, 0, 0, 3, 4, 4, 0, 1, 2, 1, 4, 2, 1, 2, 4, 0, 3, 1,\n",
      "        0, 1, 0, 3, 4, 0, 0, 3, 2, 2, 0, 2, 2, 1, 4, 0, 3, 1, 4, 4, 3, 0, 4, 2,\n",
      "        3, 2, 2, 0, 2, 2, 1, 2, 4, 2, 2, 4, 2, 4, 2, 3, 0, 2, 1, 0, 2, 3, 2, 4,\n",
      "        1, 0, 1, 4, 3, 4, 4, 3, 1, 2, 0, 2, 4, 4, 0, 3, 3, 3, 4, 0, 0, 0, 2, 2,\n",
      "        1, 0, 4, 2]) \n",
      "\n",
      "\n",
      "Batch # 5\n",
      "Feature shape: torch.Size([100, 2883])\n",
      "tensor([[-0.6385, -0.5954, -0.6001,  ..., -0.1140, -0.1527, -0.1594],\n",
      "        [ 0.0810,  0.0253, -0.1293,  ..., -0.4639, -0.4529, -0.1438],\n",
      "        [-0.8693, -0.8713, -0.8632,  ...,  1.5880,  1.5697,  1.5311],\n",
      "        ...,\n",
      "        [-0.7607, -0.8161, -0.8217,  ...,  1.9061,  1.8226,  1.8128],\n",
      "        [ 0.2711, -0.3057,  0.2723,  ...,  0.4109, -0.2791,  0.5763],\n",
      "        [-0.8421, -0.8437, -1.0294,  ...,  0.8881,  0.9851,  0.8893]]) \n",
      "\n",
      "Label shape: torch.Size([100])\n",
      "tensor([2, 3, 0, 3, 4, 3, 1, 2, 0, 2, 1, 3, 4, 1, 0, 2, 4, 1, 0, 3, 4, 1, 0, 0,\n",
      "        4, 0, 1, 2, 2, 3, 0, 1, 2, 2, 0, 4, 4, 4, 4, 0, 1, 3, 2, 3, 0, 4, 3, 3,\n",
      "        0, 0, 0, 1, 3, 0, 0, 4, 0, 3, 2, 1, 4, 3, 2, 4, 1, 0, 3, 4, 1, 3, 2, 2,\n",
      "        4, 2, 0, 3, 1, 0, 4, 1, 1, 1, 0, 0, 2, 4, 0, 3, 1, 2, 1, 3, 1, 3, 1, 0,\n",
      "        2, 0, 3, 2]) \n",
      "\n",
      "\n",
      "Batch # 6\n",
      "Feature shape: torch.Size([100, 2883])\n",
      "tensor([[ 0.3661,  0.4943,  0.3554,  ..., -0.1299, -0.1369, -0.1281],\n",
      "        [ 1.7237,  1.7219,  1.6432,  ...,  2.1606,  1.2379,  1.1711],\n",
      "        [ 1.4250,  1.4185,  1.5324,  ..., -0.9888, -0.9902, -0.9890],\n",
      "        ...,\n",
      "        [-0.1905, -0.1540, -0.1708,  ...,  0.3791,  0.3688,  0.3571],\n",
      "        [ 1.2757,  1.2943,  1.2970,  ..., -1.5297, -1.5590, -1.5056],\n",
      "        [-1.5345, -1.4782, -1.4586,  ..., -1.5774, -1.6380, -1.6777]]) \n",
      "\n",
      "Label shape: torch.Size([100])\n",
      "tensor([1, 2, 1, 1, 2, 4, 4, 0, 4, 0, 4, 1, 3, 2, 2, 3, 4, 4, 4, 0, 0, 2, 1, 1,\n",
      "        1, 2, 4, 2, 3, 1, 3, 0, 2, 1, 1, 0, 3, 0, 4, 2, 2, 4, 4, 4, 3, 4, 4, 4,\n",
      "        1, 4, 4, 4, 4, 0, 1, 3, 4, 1, 2, 1, 3, 3, 3, 2, 0, 3, 0, 3, 3, 2, 2, 1,\n",
      "        0, 4, 0, 1, 0, 2, 4, 2, 3, 2, 3, 3, 1, 2, 4, 2, 2, 4, 2, 4, 1, 3, 4, 2,\n",
      "        4, 2, 1, 4]) \n",
      "\n",
      "\n",
      "Batch # 7\n",
      "Feature shape: torch.Size([100, 2883])\n",
      "tensor([[-1.4530, -1.4782, -1.5971,  ...,  2.0334,  1.9174,  1.8754],\n",
      "        [ 0.0810,  0.1770,  0.2030,  ..., -1.1161, -0.6267,  0.0128],\n",
      "        [ 0.9498,  0.7978,  0.7985,  ..., -0.4798, -0.5003, -0.5194],\n",
      "        ...,\n",
      "        [-0.6792, -0.5954, -0.6555,  ...,  1.0472,  0.5110, -0.0029],\n",
      "        [-1.6295, -1.6162, -1.5971,  ..., -1.5138, -1.5116, -1.5212],\n",
      "        [-0.1498, -0.1402, -0.1570,  ...,  1.1108,  1.0957,  0.9519]]) \n",
      "\n",
      "Label shape: torch.Size([100])\n",
      "tensor([2, 0, 3, 2, 0, 4, 0, 1, 3, 1, 0, 4, 1, 4, 0, 1, 3, 4, 4, 2, 0, 2, 0, 3,\n",
      "        0, 2, 0, 1, 2, 4, 0, 0, 4, 4, 2, 2, 3, 2, 4, 1, 3, 2, 4, 0, 0, 0, 4, 2,\n",
      "        1, 2, 1, 1, 4, 4, 0, 3, 4, 0, 1, 1, 4, 0, 1, 3, 1, 4, 4, 4, 0, 4, 4, 1,\n",
      "        2, 4, 1, 0, 0, 1, 0, 4, 3, 0, 2, 0, 0, 0, 4, 2, 0, 2, 0, 1, 1, 1, 1, 0,\n",
      "        0, 3, 0, 0]) \n",
      "\n",
      "\n",
      "Batch # 8\n",
      "Feature shape: torch.Size([100, 2883])\n",
      "tensor([[-1.6431, -1.6437, -1.6663,  ..., -0.7662, -0.5951, -0.3629],\n",
      "        [-0.5842, -0.4437, -0.3785,  ...,  0.2837,  0.3530,  0.3884],\n",
      "        [-0.1498, -0.1264, -0.1847,  ..., -0.9411, -0.9586, -0.9890],\n",
      "        ...,\n",
      "        [ 0.3932,  0.3701,  0.3554,  ...,  0.1405,  0.2740,  0.3102],\n",
      "        [-0.2991, -0.3609, -0.4201,  ...,  0.3632,  0.1792, -0.0655],\n",
      "        [ 0.3389,  0.5219,  0.3692,  ...,  1.4289,  1.3485,  1.4372]]) \n",
      "\n",
      "Label shape: torch.Size([100])\n",
      "tensor([1, 0, 0, 2, 4, 4, 4, 2, 2, 4, 0, 1, 1, 0, 2, 2, 1, 4, 2, 0, 4, 1, 2, 2,\n",
      "        0, 2, 4, 2, 3, 2, 1, 0, 0, 3, 4, 0, 2, 2, 3, 0, 1, 1, 0, 0, 3, 3, 4, 1,\n",
      "        3, 2, 3, 1, 0, 2, 0, 2, 4, 2, 3, 4, 0, 1, 1, 2, 0, 0, 4, 0, 4, 4, 4, 0,\n",
      "        3, 2, 3, 0, 2, 2, 4, 2, 3, 3, 1, 4, 3, 2, 3, 3, 0, 2, 2, 1, 3, 4, 1, 0,\n",
      "        1, 2, 3, 4]) \n",
      "\n",
      "\n",
      "Batch # 9\n",
      "Feature shape: torch.Size([100, 2883])\n",
      "tensor([[ 0.5969,  0.6184,  0.6046,  ..., -0.2731, -0.2949, -0.3003],\n",
      "        [-1.7110, -1.7265, -1.7356,  ..., -1.2911, -1.4800, -1.6151],\n",
      "        [ 0.7598,  0.7426,  0.7431,  ...,  1.3176,  1.3011,  1.2650],\n",
      "        ...,\n",
      "        [-0.8286, -0.7747, -1.0155,  ..., -0.0186, -0.0421,  0.0441],\n",
      "        [ 0.9363,  1.1564,  0.8677,  ..., -1.4024, -1.4010, -1.4742],\n",
      "        [-1.2901, -1.2713, -1.2925,  ...,  0.5541,  0.4478,  0.4197]]) \n",
      "\n",
      "Label shape: torch.Size([100])\n",
      "tensor([4, 2, 0, 2, 3, 4, 3, 3, 0, 3, 4, 2, 3, 2, 4, 3, 2, 0, 3, 4, 4, 4, 4, 1,\n",
      "        2, 4, 1, 0, 1, 4, 1, 3, 4, 4, 2, 3, 3, 4, 1, 3, 0, 3, 1, 2, 2, 4, 3, 2,\n",
      "        3, 0, 4, 1, 0, 4, 1, 4, 4, 3, 4, 0, 4, 4, 1, 2, 1, 4, 4, 0, 2, 2, 4, 0,\n",
      "        2, 2, 1, 1, 3, 4, 1, 2, 4, 2, 0, 4, 3, 1, 1, 0, 3, 2, 2, 3, 0, 3, 4, 1,\n",
      "        1, 4, 1, 2]) \n",
      "\n",
      "\n",
      "Batch # 10\n",
      "Feature shape: torch.Size([100, 2883])\n",
      "tensor([[ 0.1489,  0.0115,  0.0923,  ..., -0.2731, -0.1843,  0.0910],\n",
      "        [ 0.1353,  0.0253,  0.0230,  ..., -0.2412, -0.1685, -0.0655],\n",
      "        [ 0.3932,  0.4529,  0.4523,  ..., -1.0207, -1.0850, -1.0516],\n",
      "        ...,\n",
      "        [ 1.1399,  1.1564,  1.1585,  ...,  1.2699,  1.1747,  1.1867],\n",
      "        [ 0.5426,  0.5771,  0.5908,  ..., -0.7980, -0.7057, -0.4881],\n",
      "        [-1.5209, -1.5196, -1.5971,  ..., -1.1956, -1.4010, -1.1455]]) \n",
      "\n",
      "Label shape: torch.Size([100])\n",
      "tensor([2, 3, 4, 2, 1, 4, 3, 4, 3, 1, 0, 2, 1, 4, 0, 3, 1, 0, 3, 2, 1, 4, 3, 2,\n",
      "        2, 0, 2, 4, 1, 3, 0, 0, 2, 1, 4, 2, 0, 1, 3, 4, 1, 3, 4, 4, 1, 1, 1, 3,\n",
      "        4, 2, 4, 3, 4, 3, 1, 1, 4, 1, 4, 3, 2, 4, 2, 3, 0, 0, 4, 4, 3, 2, 2, 0,\n",
      "        2, 4, 0, 0, 0, 2, 3, 2, 1, 0, 3, 4, 4, 3, 1, 4, 4, 4, 3, 4, 1, 4, 1, 4,\n",
      "        3, 0, 4, 4]) \n",
      "\n",
      "\n",
      "Batch # 11\n",
      "Feature shape: torch.Size([100, 2883])\n",
      "tensor([[ 1.2621,  1.2529,  1.2416,  ..., -0.2890, -0.3423, -0.1125],\n",
      "        [ 0.2846,  1.0874,  1.0893,  ...,  1.5562,  1.4117,  1.3589],\n",
      "        [ 0.7462,  0.3977,  1.1308,  ..., -0.1140, -0.0263, -0.0655],\n",
      "        ...,\n",
      "        [ 1.5608,  1.4736,  1.5878,  ..., -1.7046, -1.6538, -1.6151],\n",
      "        [-1.6974, -1.6713, -1.6940,  ..., -0.4957, -0.4529, -0.6916],\n",
      "        [-0.5978, -0.1402, -0.1431,  ...,  1.2221,  1.1589,  1.1084]]) \n",
      "\n",
      "Label shape: torch.Size([100])\n",
      "tensor([4, 0, 0, 3, 4, 4, 4, 1, 0, 4, 2, 3, 0, 2, 0, 0, 4, 2, 1, 1, 1, 2, 2, 4,\n",
      "        3, 4, 0, 2, 0, 3, 4, 1, 0, 1, 3, 3, 3, 4, 4, 1, 4, 4, 2, 3, 4, 0, 1, 3,\n",
      "        2, 4, 4, 0, 4, 2, 0, 0, 0, 0, 0, 3, 1, 2, 2, 3, 4, 2, 1, 1, 4, 0, 3, 4,\n",
      "        3, 2, 4, 3, 3, 0, 0, 2, 2, 4, 4, 4, 3, 0, 0, 1, 0, 3, 1, 2, 2, 3, 1, 4,\n",
      "        4, 4, 3, 1]) \n",
      "\n",
      "\n",
      "Batch # 12\n",
      "Feature shape: torch.Size([100, 2883])\n",
      "tensor([[-1.2358, -1.2437, -1.2371,  ..., -0.3526, -0.4687, -0.5664],\n",
      "        [-0.4620, -0.4989, -0.5032,  ...,  0.1564,  0.3056,  0.4980],\n",
      "        [ 0.2032,  0.2046,  0.1892,  ...,  0.7449,  0.7006,  0.4980],\n",
      "        ...,\n",
      "        [-0.2720, -0.1540, -0.0877,  ..., -0.5594, -0.4687, -0.5507],\n",
      "        [-0.3806, -0.4023, -0.4062,  ..., -0.2890, -0.2791, -0.1751],\n",
      "        [-1.7381, -1.7541, -1.7771,  ..., -1.7523, -1.7487, -1.7403]]) \n",
      "\n",
      "Label shape: torch.Size([100])\n",
      "tensor([2, 0, 1, 0, 2, 0, 1, 2, 0, 3, 4, 3, 3, 3, 4, 2, 3, 4, 1, 2, 2, 0, 2, 1,\n",
      "        0, 3, 1, 1, 2, 4, 2, 3, 1, 0, 2, 4, 0, 1, 2, 4, 2, 3, 2, 1, 4, 4, 4, 3,\n",
      "        3, 0, 2, 0, 0, 4, 3, 1, 1, 0, 2, 4, 0, 2, 1, 3, 2, 1, 2, 1, 2, 4, 0, 2,\n",
      "        2, 3, 2, 1, 2, 2, 2, 2, 4, 0, 2, 4, 0, 4, 3, 4, 3, 4, 0, 4, 3, 4, 0, 0,\n",
      "        3, 0, 0, 2]) \n",
      "\n",
      "\n",
      "Batch # 13\n",
      "Feature shape: torch.Size([100, 2883])\n",
      "tensor([[ 1.6829,  1.6806,  1.6708,  ...,  2.3038,  2.2808,  2.2511],\n",
      "        [ 0.6376,  0.9219,  0.9785,  ...,  1.6516,  1.5855,  1.4685],\n",
      "        [-1.5617, -1.5748, -1.5833,  ..., -0.1776, -0.4529, -0.7073],\n",
      "        ...,\n",
      "        [-1.6974, -1.7127, -1.7356,  ..., -1.6251, -1.6064, -1.5682],\n",
      "        [-0.7471, -0.7471, -0.7109,  ..., -0.9093, -1.1008, -1.2395],\n",
      "        [-1.7381, -1.7541, -1.7771,  ...,  0.5859,  0.8270,  1.2024]]) \n",
      "\n",
      "Label shape: torch.Size([100])\n",
      "tensor([1, 1, 0, 4, 3, 0, 4, 2, 1, 4, 0, 2, 0, 2, 2, 0, 4, 0, 0, 0, 1, 1, 3, 2,\n",
      "        0, 4, 2, 3, 1, 4, 1, 3, 2, 4, 2, 1, 0, 0, 4, 0, 4, 3, 1, 3, 4, 3, 3, 0,\n",
      "        0, 3, 4, 2, 0, 2, 0, 0, 2, 2, 0, 0, 2, 2, 3, 4, 1, 3, 1, 4, 1, 2, 4, 0,\n",
      "        3, 4, 2, 2, 2, 0, 1, 2, 3, 1, 3, 4, 0, 1, 0, 0, 4, 3, 0, 1, 3, 2, 3, 3,\n",
      "        0, 2, 4, 3]) \n",
      "\n",
      "\n",
      "Batch # 14\n",
      "Feature shape: torch.Size([100, 2883])\n",
      "tensor([[-0.8286, -0.8575, -0.3232,  ..., -1.2115, -1.0376, -0.9890],\n",
      "        [-1.0322, -0.2230,  0.6185,  ..., -0.4162, -0.5003, -0.5038],\n",
      "        [-0.8557, -0.4437, -0.9740,  ..., -1.3388, -1.4642, -1.5056],\n",
      "        ...,\n",
      "        [-0.4756, -0.1678, -0.5309,  ..., -1.0843, -1.1324, -1.1455],\n",
      "        [ 0.7191,  0.7150,  0.7154,  ...,  0.2200,  0.1634,  0.1223],\n",
      "        [ 0.7055,  0.7012,  0.7708,  ..., -0.7503, -0.5003, -0.6760]]) \n",
      "\n",
      "Label shape: torch.Size([100])\n",
      "tensor([3, 4, 3, 2, 4, 3, 2, 0, 0, 1, 4, 0, 3, 0, 0, 4, 0, 1, 2, 3, 3, 1, 1, 1,\n",
      "        2, 0, 0, 3, 3, 3, 2, 2, 3, 0, 1, 2, 2, 0, 4, 2, 4, 2, 4, 0, 4, 4, 2, 1,\n",
      "        1, 0, 1, 0, 3, 2, 2, 3, 3, 1, 1, 2, 3, 2, 2, 1, 2, 1, 3, 4, 4, 1, 4, 4,\n",
      "        2, 4, 3, 1, 1, 0, 2, 3, 3, 3, 1, 2, 1, 0, 4, 0, 1, 2, 3, 0, 3, 0, 0, 1,\n",
      "        1, 4, 0, 2]) \n",
      "\n",
      "\n",
      "Batch # 15\n",
      "Feature shape: torch.Size([100, 2883])\n",
      "tensor([[ 0.1489, -0.0437,  0.0369,  ...,  0.7927,  0.7796,  0.7641],\n",
      "        [-1.6295, -1.6575, -1.6802,  ...,  2.3038,  2.2808,  2.2511],\n",
      "        [ 0.3661, -0.1126, -0.8355,  ...,  0.4268,  0.4004,  0.3102],\n",
      "        ...,\n",
      "        [-0.9643, -1.0506, -0.9740,  ..., -0.5753, -0.5951, -0.5664],\n",
      "        [-0.7607, -1.0368, -1.4586,  ..., -0.5117, -0.7057, -0.9108],\n",
      "        [ 1.1128,  1.1012,  1.1170,  ..., -0.3208, -0.2633, -0.3473]]) \n",
      "\n",
      "Label shape: torch.Size([100])\n",
      "tensor([1, 4, 4, 2, 4, 0, 0, 2, 3, 3, 4, 4, 0, 0, 4, 1, 3, 2, 4, 3, 3, 0, 2, 1,\n",
      "        3, 4, 4, 2, 0, 4, 0, 2, 1, 0, 1, 2, 3, 0, 2, 3, 0, 0, 2, 0, 0, 0, 0, 0,\n",
      "        3, 1, 1, 0, 3, 3, 3, 2, 3, 3, 4, 3, 1, 1, 1, 0, 0, 0, 1, 3, 2, 1, 0, 3,\n",
      "        3, 2, 0, 0, 3, 3, 4, 0, 2, 1, 3, 0, 1, 4, 3, 0, 1, 4, 2, 3, 4, 3, 1, 4,\n",
      "        1, 4, 4, 4]) \n",
      "\n",
      "\n",
      "Batch # 16\n",
      "Feature shape: torch.Size([100, 2883])\n",
      "tensor([[ 1.6694,  1.6530,  1.6570,  ...,  0.2041,  0.2266,  0.7171],\n",
      "        [ 0.9091,  0.8805,  0.8539,  ...,  0.3950,  0.3846,  0.3728],\n",
      "        [-1.6974, -1.7127, -1.7079,  ...,  1.6357,  1.6329,  1.6093],\n",
      "        ...,\n",
      "        [-0.9100, -0.8161, -0.7663,  ..., -0.8616, -0.8480, -0.8638],\n",
      "        [-0.2991,  0.0115,  0.0507,  ..., -0.1140, -0.1685, -0.1751],\n",
      "        [ 1.6151,  1.6668,  1.6570,  ..., -0.0822, -0.0579, -0.0029]]) \n",
      "\n",
      "Label shape: torch.Size([100])\n",
      "tensor([0, 1, 3, 4, 4, 2, 2, 1, 2, 1, 4, 0, 1, 0, 3, 0, 4, 3, 4, 2, 0, 1, 2, 2,\n",
      "        0, 4, 4, 1, 0, 1, 1, 1, 4, 2, 1, 3, 0, 2, 2, 3, 2, 1, 2, 0, 1, 0, 2, 4,\n",
      "        2, 4, 1, 0, 4, 2, 0, 1, 1, 2, 1, 1, 2, 1, 1, 4, 4, 3, 2, 3, 4, 3, 2, 0,\n",
      "        4, 4, 1, 3, 0, 2, 2, 4, 4, 2, 2, 2, 0, 4, 2, 0, 4, 1, 3, 1, 3, 2, 2, 0,\n",
      "        3, 0, 2, 4]) \n",
      "\n",
      "\n",
      "Batch # 17\n",
      "Feature shape: torch.Size([100, 2883])\n",
      "tensor([[-3.3984e-01, -3.4713e-01, -3.6469e-01,  ..., -6.5481e-01,\n",
      "         -1.6855e+00, -1.7247e+00],\n",
      "        [ 2.7106e-01,  2.8738e-01,  3.2767e-01,  ...,  3.4729e-01,\n",
      "         -1.5267e-01, -4.0986e-01],\n",
      "        [-1.3621e-01, -1.5402e-01, -1.7083e-01,  ..., -5.9119e-01,\n",
      "         -6.1092e-01, -5.3509e-01],\n",
      "        ...,\n",
      "        [-1.2087e+00, -1.2299e+00, -1.2232e+00,  ...,  1.0869e-01,\n",
      "         -3.8970e-01, -6.7596e-01],\n",
      "        [-4.4889e-04, -2.2850e-03,  9.1806e-03,  ..., -6.7072e-01,\n",
      "         -6.5833e-01, -6.1335e-01],\n",
      "        [ 4.2040e-01,  3.7015e-01,  3.6921e-01,  ..., -3.6850e-01,\n",
      "         -2.7909e-01,  1.0668e-01]]) \n",
      "\n",
      "Label shape: torch.Size([100])\n",
      "tensor([1, 0, 0, 0, 2, 0, 2, 0, 4, 1, 3, 4, 0, 3, 4, 4, 1, 2, 1, 2, 2, 2, 2, 0,\n",
      "        4, 3, 0, 3, 2, 4, 4, 3, 4, 0, 0, 2, 1, 0, 3, 4, 3, 2, 2, 3, 2, 0, 1, 3,\n",
      "        4, 2, 3, 2, 1, 2, 1, 3, 2, 3, 3, 4, 3, 1, 2, 1, 3, 3, 3, 0, 0, 3, 1, 4,\n",
      "        1, 1, 3, 1, 1, 4, 2, 1, 3, 3, 3, 4, 0, 0, 1, 0, 0, 1, 0, 2, 3, 4, 2, 0,\n",
      "        4, 0, 0, 3]) \n",
      "\n",
      "\n",
      "Batch # 18\n",
      "Feature shape: torch.Size([100, 2883])\n",
      "tensor([[-1.6295, -1.5886, -1.5694,  ..., -0.7662, -0.7373, -0.9108],\n",
      "        [ 0.7734,  0.6046,  0.6877,  ..., -1.0366, -1.2588, -1.2708],\n",
      "        [-1.5481, -1.6162, -1.6802,  ...,  0.4586,  0.2740,  0.2476],\n",
      "        ...,\n",
      "        [ 0.8141,  0.8253,  0.8954,  ..., -0.5594, -0.4687, -0.4881],\n",
      "        [-0.5299, -0.5816, -0.6139,  ..., -0.4162, -0.3739, -0.3786],\n",
      "        [-0.2855,  1.1288,  1.5185,  ..., -0.9570, -1.5274, -1.4586]]) \n",
      "\n",
      "Label shape: torch.Size([100])\n",
      "tensor([3, 3, 4, 4, 0, 4, 3, 4, 0, 4, 4, 0, 1, 2, 1, 4, 0, 1, 4, 1, 3, 2, 3, 2,\n",
      "        1, 4, 4, 4, 2, 0, 3, 0, 3, 2, 0, 3, 2, 4, 4, 2, 2, 4, 3, 2, 2, 2, 3, 1,\n",
      "        1, 1, 0, 0, 4, 3, 0, 1, 3, 3, 2, 1, 0, 3, 0, 4, 1, 3, 1, 1, 4, 1, 4, 2,\n",
      "        2, 1, 1, 3, 1, 0, 1, 0, 4, 0, 0, 0, 2, 1, 3, 4, 0, 3, 0, 2, 1, 2, 1, 2,\n",
      "        0, 4, 2, 1]) \n",
      "\n",
      "\n",
      "Batch # 19\n",
      "Feature shape: torch.Size([100, 2883])\n",
      "tensor([[-0.0819, -0.0850, -0.0739,  ..., -0.6071, -0.6425, -0.6290],\n",
      "        [ 0.4340,  0.6184,  0.6323,  ..., -1.0207, -0.9586, -0.9734],\n",
      "        [-1.3852, -1.4230, -1.3617,  ..., -1.5615, -1.2746, -0.8012],\n",
      "        ...,\n",
      "        [-0.1498, -0.1816, -0.2124,  ...,  0.5382,  0.6532,  0.6389],\n",
      "        [ 0.2575,  0.2322,  0.2169,  ...,  0.3632,  0.3846,  0.3102],\n",
      "        [ 0.0131,  0.1494,  0.1477,  ...,  1.1744,  0.9535, -0.3786]]) \n",
      "\n",
      "Label shape: torch.Size([100])\n",
      "tensor([4, 4, 3, 3, 2, 2, 2, 0, 3, 4, 0, 1, 3, 4, 1, 3, 1, 1, 3, 1, 4, 0, 2, 1,\n",
      "        2, 0, 2, 4, 0, 1, 3, 3, 3, 4, 1, 1, 1, 2, 2, 1, 3, 2, 3, 3, 4, 1, 0, 0,\n",
      "        1, 0, 1, 4, 1, 2, 4, 1, 0, 2, 4, 3, 1, 1, 1, 3, 2, 0, 2, 2, 3, 1, 4, 3,\n",
      "        4, 4, 2, 4, 4, 2, 2, 4, 2, 1, 2, 0, 4, 1, 4, 4, 1, 2, 2, 1, 3, 3, 0, 4,\n",
      "        2, 0, 0, 2]) \n",
      "\n",
      "\n",
      "Batch # 20\n",
      "Feature shape: torch.Size([100, 2883])\n",
      "tensor([[ 0.4204,  0.4805,  0.5215,  ..., -0.3367, -0.3581, -0.3629],\n",
      "        [ 0.4068,  0.4253,  0.4108,  ..., -1.7364, -1.7171, -1.6308],\n",
      "        [ 0.6376,  0.7012,  0.1061,  ...,  1.9538,  1.9490,  1.8598],\n",
      "        ...,\n",
      "        [-0.2855, -0.4299, -0.3785,  ...,  1.4925,  1.2221,  1.0615],\n",
      "        [ 1.5879,  1.6668,  1.6708,  ..., -0.0504, -0.1211, -0.1281],\n",
      "        [-0.4484, -0.4713, -0.4893,  ..., -1.2752, -1.3220, -1.3334]]) \n",
      "\n",
      "Label shape: torch.Size([100])\n",
      "tensor([0, 2, 4, 1, 4, 0, 4, 4, 3, 0, 4, 0, 4, 1, 2, 0, 4, 2, 4, 1, 3, 0, 3, 2,\n",
      "        1, 0, 0, 2, 1, 3, 3, 3, 3, 3, 1, 1, 3, 2, 3, 3, 3, 4, 2, 3, 3, 3, 2, 1,\n",
      "        2, 2, 0, 3, 3, 1, 4, 4, 0, 0, 1, 1, 1, 0, 3, 0, 1, 0, 3, 3, 1, 2, 2, 2,\n",
      "        4, 0, 2, 1, 0, 1, 2, 3, 1, 0, 4, 4, 1, 4, 2, 0, 4, 0, 2, 0, 2, 4, 1, 1,\n",
      "        1, 3, 0, 2]) \n",
      "\n",
      "\n",
      "Batch # 21\n",
      "Feature shape: torch.Size([100, 2883])\n",
      "tensor([[ 0.1760,  0.0805, -0.6693,  ...,  0.6177,  0.5268,  0.5136],\n",
      "        [ 0.1489,  0.1219,  0.1061,  ..., -0.8298, -0.6267, -0.6290],\n",
      "        [-0.0276, -0.6782, -0.1570,  ..., -1.7046, -1.3220, -0.5507],\n",
      "        ...,\n",
      "        [-0.9100, -0.9265, -0.9186,  ..., -0.4480, -0.5635, -0.5820],\n",
      "        [ 1.6422,  1.6943,  1.6985,  ...,  0.5700,  0.9693,  0.9519],\n",
      "        [-0.7743, -0.9265, -0.7524,  ..., -0.7503, -0.7215, -0.6916]]) \n",
      "\n",
      "Label shape: torch.Size([100])\n",
      "tensor([4, 0, 4, 3, 3, 3, 0, 0, 4, 4, 1, 1, 1, 1, 1, 2, 2, 3, 0, 0, 4, 3, 2, 0,\n",
      "        3, 3, 3, 3, 4, 2, 3, 3, 1, 1, 4, 4, 2, 0, 4, 0, 4, 4, 1, 3, 1, 3, 2, 1,\n",
      "        1, 4, 0, 2, 1, 3, 3, 4, 0, 1, 4, 2, 2, 3, 4, 0, 1, 3, 4, 4, 3, 3, 4, 4,\n",
      "        2, 0, 1, 1, 4, 2, 2, 4, 2, 2, 3, 3, 3, 4, 2, 3, 4, 2, 1, 1, 1, 2, 3, 4,\n",
      "        0, 4, 4, 1]) \n",
      "\n",
      "\n",
      "Batch # 22\n",
      "Feature shape: torch.Size([100, 2883])\n",
      "tensor([[-0.8150, -0.4299, -1.0432,  ..., -1.4183, -1.3536, -1.4742],\n",
      "        [-1.1951, -1.1058, -1.0294,  ...,  1.0790,  1.6803,  1.7972],\n",
      "        [-1.4395, -1.4368, -1.4171,  ...,  1.6675,  1.6961,  1.7033],\n",
      "        ...,\n",
      "        [ 0.3254,  0.3012,  0.3554,  ...,  0.0292,  0.2108,  0.3884],\n",
      "        [-0.4892, -0.4851, -0.5032,  ...,  1.2221,  1.4907,  1.0145],\n",
      "        [ 1.7237,  1.7357,  1.7401,  ..., -0.6707, -0.4213, -0.4881]]) \n",
      "\n",
      "Label shape: torch.Size([100])\n",
      "tensor([3, 2, 3, 2, 0, 1, 3, 0, 3, 3, 0, 2, 4, 4, 0, 2, 0, 4, 4, 1, 4, 3, 0, 3,\n",
      "        2, 1, 3, 2, 1, 2, 4, 0, 0, 0, 2, 1, 0, 0, 3, 1, 2, 3, 2, 0, 4, 3, 3, 4,\n",
      "        4, 3, 1, 0, 2, 3, 0, 4, 3, 4, 0, 3, 0, 4, 0, 3, 3, 3, 1, 3, 0, 1, 0, 2,\n",
      "        2, 4, 4, 4, 4, 2, 1, 2, 1, 3, 1, 3, 3, 0, 2, 2, 2, 0, 4, 3, 0, 2, 0, 1,\n",
      "        2, 0, 0, 4]) \n",
      "\n",
      "\n",
      "Batch # 23\n",
      "Feature shape: torch.Size([100, 2883])\n",
      "tensor([[-1.1408, -1.0092, -0.9740,  ..., -0.3844,  0.0370,  0.4354],\n",
      "        [-1.0051, -1.0230, -1.0294,  ..., -1.0048, -1.0218, -1.0516],\n",
      "        [ 0.2846, -0.2230,  0.2169,  ..., -0.0027, -0.0579, -0.1907],\n",
      "        ...,\n",
      "        [-0.2312, -0.5954,  0.2030,  ...,  0.2359,  0.2898,  0.3884],\n",
      "        [ 1.7101,  1.7081,  1.6985,  ...,  2.3038,  2.2808,  2.2511],\n",
      "        [-1.3444, -0.7058, -0.3093,  ..., -0.9570, -0.9744, -0.9734]]) \n",
      "\n",
      "Label shape: torch.Size([100])\n",
      "tensor([1, 1, 2, 2, 1, 0, 2, 3, 4, 3, 2, 2, 1, 3, 4, 1, 4, 1, 3, 0, 3, 1, 0, 1,\n",
      "        1, 3, 4, 2, 0, 3, 1, 1, 2, 4, 1, 2, 2, 4, 1, 3, 2, 1, 3, 1, 1, 4, 1, 2,\n",
      "        1, 3, 2, 0, 2, 4, 4, 0, 1, 3, 2, 4, 0, 2, 1, 2, 3, 4, 0, 1, 0, 2, 3, 0,\n",
      "        3, 0, 4, 1, 0, 3, 4, 4, 4, 4, 4, 3, 2, 4, 0, 2, 0, 0, 2, 3, 0, 0, 1, 3,\n",
      "        1, 3, 1, 0]) \n",
      "\n",
      "\n",
      "Batch # 24\n",
      "Feature shape: torch.Size([100, 2883])\n",
      "tensor([[-0.1769, -0.1540, -0.2816,  ..., -0.5594, -0.2949,  0.0910],\n",
      "        [-0.3398, -0.3333, -0.3370,  ..., -0.6866, -0.5951, -0.8794],\n",
      "        [ 1.1263,  1.1426,  1.2000,  ...,  0.3155,  0.6374,  0.7797],\n",
      "        ...,\n",
      "        [ 0.4068,  0.4529,  0.4246,  ...,  1.5562,  1.5381,  1.5467],\n",
      "        [-0.5842, -0.3747, -0.6139,  ..., -0.8616, -0.5793, -0.8951],\n",
      "        [ 0.5019,  0.1494,  0.0646,  ..., -0.0822, -0.1843, -0.0185]]) \n",
      "\n",
      "Label shape: torch.Size([100])\n",
      "tensor([1, 2, 0, 1, 1, 1, 3, 3, 4, 2, 0, 2, 3, 2, 0, 3, 2, 4, 3, 3, 0, 2, 4, 4,\n",
      "        0, 1, 3, 4, 2, 4, 0, 4, 2, 2, 4, 2, 4, 3, 1, 3, 4, 0, 4, 0, 1, 0, 3, 2,\n",
      "        1, 4, 2, 1, 3, 3, 1, 4, 0, 0, 1, 3, 3, 1, 0, 1, 3, 0, 0, 0, 4, 1, 3, 0,\n",
      "        3, 4, 4, 2, 4, 2, 2, 4, 0, 2, 2, 1, 3, 0, 3, 4, 0, 2, 2, 3, 2, 2, 1, 4,\n",
      "        3, 4, 3, 4]) \n",
      "\n",
      "\n",
      "Batch # 25\n",
      "Feature shape: torch.Size([100, 2883])\n",
      "tensor([[-1.0051, -1.0230, -0.9601,  ..., -0.3685, -0.4845, -0.5351],\n",
      "        [-0.4756, -0.2368, -0.7940,  ...,  0.8086,  0.7322,  0.6076],\n",
      "        [-0.2855, -0.2782, -0.2678,  ..., -0.3844, -0.4845, -0.5038],\n",
      "        ...,\n",
      "        [ 1.6151,  1.5288,  1.5878,  ...,  1.6198,  1.5065,  1.2650],\n",
      "        [-1.5888, -1.3541, -1.1401,  ...,  1.1267,  1.2063,  1.1398],\n",
      "        [ 0.7055,  0.3288,  0.1061,  ..., -1.0207, -0.8954, -1.1299]]) \n",
      "\n",
      "Label shape: torch.Size([100])\n",
      "tensor([0, 1, 0, 4, 3, 4, 1, 3, 3, 2, 2, 3, 3, 4, 2, 0, 0, 0, 4, 3, 3, 4, 4, 0,\n",
      "        4, 3, 2, 1, 2, 4, 0, 0, 0, 1, 4, 0, 3, 2, 1, 4, 4, 4, 2, 2, 2, 4, 1, 2,\n",
      "        3, 1, 3, 3, 3, 0, 1, 2, 3, 0, 4, 3, 0, 1, 4, 1, 3, 0, 1, 4, 0, 2, 0, 2,\n",
      "        0, 0, 1, 3, 0, 0, 1, 4, 1, 0, 4, 3, 3, 0, 0, 1, 3, 3, 1, 3, 4, 0, 3, 4,\n",
      "        1, 0, 4, 2]) \n",
      "\n",
      "\n",
      "Batch # 26\n",
      "Feature shape: torch.Size([100, 2883])\n",
      "tensor([[ 1.7237,  1.7633,  1.7539,  ...,  2.2879,  2.2650,  2.2354],\n",
      "        [-0.8964, -0.1264, -0.3232,  ..., -0.2412, -0.2159, -0.3629],\n",
      "        [-0.6114, -0.6092, -0.6555,  ...,  0.3314,  0.3214,  0.3258],\n",
      "        ...,\n",
      "        [ 0.2168,  0.0115, -0.1847,  ..., -1.2433, -1.2746, -1.2864],\n",
      "        [ 1.0720,  0.9633,  1.0893,  ...,  0.8086,  0.8112,  0.7954],\n",
      "        [-0.2855, -0.2920, -0.3093,  ...,  0.1564,  0.1476,  0.0597]]) \n",
      "\n",
      "Label shape: torch.Size([100])\n",
      "tensor([1, 4, 1, 0, 1, 0, 0, 3, 4, 1, 1, 0, 1, 3, 0, 2, 2, 3, 4, 0, 3, 1, 2, 2,\n",
      "        0, 0, 3, 0, 1, 0, 0, 0, 3, 1, 4, 1, 3, 0, 2, 4, 2, 4, 1, 3, 0, 3, 1, 4,\n",
      "        4, 0, 0, 2, 4, 1, 1, 1, 2, 0, 4, 3, 3, 0, 0, 0, 3, 2, 1, 4, 2, 2, 4, 4,\n",
      "        4, 1, 4, 0, 1, 4, 3, 3, 0, 3, 0, 4, 0, 3, 2, 4, 2, 3, 3, 3, 0, 2, 3, 2,\n",
      "        1, 3, 4, 0]) \n",
      "\n",
      "\n",
      "Batch # 27\n",
      "Feature shape: torch.Size([100, 2883])\n",
      "tensor([[-1.1951, -0.9678, -0.8355,  ..., -0.3844, -0.4687, -0.3786],\n",
      "        [ 0.2711,  0.2460,  0.3138,  ...,  2.2720,  2.2334,  2.1885],\n",
      "        [ 1.0449,  1.1840,  1.1862,  ..., -0.2731, -0.2949, -0.3003],\n",
      "        ...,\n",
      "        [ 0.5290,  0.7978,  0.7154,  ..., -0.2572, -0.4687, -0.6133],\n",
      "        [-0.5842, -0.5954, -0.6139,  ..., -0.7025, -0.5793, -0.4412],\n",
      "        [-0.1769, -1.2575, -0.7109,  ...,  0.4586,  0.4952,  0.3884]]) \n",
      "\n",
      "Label shape: torch.Size([100])\n",
      "tensor([3, 1, 4, 0, 2, 0, 1, 4, 4, 1, 1, 4, 4, 3, 3, 4, 0, 4, 2, 4, 0, 0, 4, 1,\n",
      "        3, 2, 1, 2, 4, 0, 3, 4, 0, 4, 2, 0, 3, 3, 2, 0, 2, 1, 3, 2, 2, 1, 3, 0,\n",
      "        2, 0, 0, 3, 3, 4, 2, 2, 4, 2, 3, 3, 4, 0, 2, 0, 1, 1, 0, 4, 3, 4, 4, 4,\n",
      "        2, 4, 4, 0, 2, 2, 1, 1, 0, 2, 1, 4, 2, 3, 1, 2, 1, 0, 0, 1, 3, 0, 1, 0,\n",
      "        4, 1, 0, 2]) \n",
      "\n",
      "\n",
      "Batch # 28\n",
      "Feature shape: torch.Size([13, 2883])\n",
      "tensor([[-0.7064, -0.5678, -0.7386,  ...,  1.1267,  1.0957,  1.1241],\n",
      "        [ 0.3932,  0.4115,  0.4108,  ..., -0.1140, -0.1527, -0.2846],\n",
      "        [-0.2312, -0.1540, -0.0739,  ..., -0.2094, -0.3739, -0.9577],\n",
      "        ...,\n",
      "        [ 0.9091,  0.9771,  1.0339,  ..., -0.3526, -0.3107, -0.4099],\n",
      "        [ 0.8820,  0.8805,  0.9369,  ..., -1.1797, -1.3062, -1.4429],\n",
      "        [ 0.2303, -0.3333, -0.2678,  ...,  2.3038,  2.2808,  2.2511]]) \n",
      "\n",
      "Label shape: torch.Size([13])\n",
      "tensor([1, 0, 3, 4, 1, 2, 4, 0, 4, 2, 0, 0, 1]) \n",
      "\n",
      "\n"
     ]
    }
   ],
   "source": [
    "batch_index = 0\n",
    "# Iterate over the dataloader\n",
    "for features, labels in train_loader:\n",
    "    # you can train your network with the feature and label batches here\n",
    "    print(\"Batch #\", batch_index)\n",
    "    print(\"Feature shape:\", features.shape)\n",
    "    print(features, \"\\n\")\n",
    "    print(\"Label shape:\", labels.shape)\n",
    "    print(labels, \"\\n\\n\")\n",
    "    batch_index += 1"
   ]
  },
  {
   "cell_type": "markdown",
   "metadata": {},
   "source": [
    "<a id='section3'></a>\n",
    "## Confusion Matrix\n",
    "\n",
    "The top-level program grade.py returns two types of feedback about your model.\n",
    "\n",
    "- The accuracy on the testing set.\n",
    "- A confusion matrix for the testing set.\n",
    "\n",
    "A confusion matrix is a very useful tool for evaluating multi-class classification problems, as it helps in identifying possible sources of imbalance in your dataset - and can offer precious insights into possible biases in your training procedure.\n",
    "\n",
    "Specifically, in a classification problem with k classes, a confusion matrix will have k rows and k columns. Each row corresponds to the ground truth label of the data points - and each column refers to the predicted label by your classifier. Each entry on the matrix contains a count of the corresponding tuple (ground_truth label, predicted_label). In other words, all elements in the diagonal of this square matrix have been correctly classified - and all other elements count as mistakes. For instance, if your matrix has many entries in [0,1]. This will mean that your classifier tends to mistake points belonging to class 0 for points belonging to class 1. Further details can be found on this [Wikipedia page](https://en.wikipedia.org/wiki/Confusion_matrix)."
   ]
  },
  {
   "attachments": {
    "image-2.png": {
     "image/png": "[encoded data removed]"
    },
    "image.png": {
     "image/png": "[encoded data removed]"
    }
   },
   "cell_type": "markdown",
   "metadata": {},
   "source": [
    "<a id='section4'></a>\n",
    "## Neural Network\n",
    "\n",
    "![image.png](attachment:image.png)\n",
    "\n",
    "Now it's time for you to create a neural network. You will implement a neural network in `Class NeuralNet`, specify a loss function and optimizer in the `function fit()`, and write a training loop in `function train()`.   \n",
    "*__In each training iteration, the input of your network is a batch of preprocessed image data of size (batch size, 2883). The number of neurons in the output layer should be equal to the number of categories.  \n",
    "For this assignment, you can use [Cross Entropy Loss](https://pytorch.org/docs/stable/generated/torch.nn.CrossEntropyLoss.html). Notice that because PyTorch's CrossEntropyLoss incorporates a softmax function, you do not need to explicitly include an normalization function in the last layer of your network__*.\n",
    "\n",
    "![image.png](attachment:image-2.png)\n",
    "\n",
    "To get a full score, the accuracy of your network must be above `0.61 on the visible testing set`, and `above 0.59 on the hidden testing set`. The structure of the neural network is completely up to you. You should be able to get around 0.62 testing-set accuracy with a two-layer network with no more than 200 hidden neurons.\n",
    "\n",
    "Notice that the autograder will pass in the number of training epochs and the batch size. You don't control those. However, you do control the neural net's learning rate. If you are confident about a model you have implemented but are not able to pass the accuracy thresholds on gradescope, try increasing the learning rate. Be aware, however, that using a very high learning rate may worse performance since the model may begin to oscillate around the optimal parameter settings."
   ]
  },
  {
   "cell_type": "code",
   "execution_count": 208,
   "metadata": {},
   "outputs": [],
   "source": [
    "import submitted\n",
    "import importlib"
   ]
  },
  {
   "cell_type": "markdown",
   "metadata": {},
   "source": [
    "After you have implemented a network, you can use the code below to test your model."
   ]
  },
  {
   "cell_type": "code",
   "execution_count": 209,
   "metadata": {},
   "outputs": [],
   "source": [
    "# Helper functions to test your model, you can ignore the implementations\n",
    "\n",
    "def ComputeAccuracy(model):\n",
    "    pred_values = model(test_set_p)  # Predicted value of the testing set\n",
    "    pred_values = pred_values.detach().numpy()  # Convert the tensor to a numpy array\n",
    "    pred_labels = np.argmax(pred_values, axis=1)  # Predicted labels\n",
    "    accuracy, conf_mat = reader.compute_accuracies(pred_labels, test_labels)\n",
    "    print(\"Accuracy:\", accuracy)\n",
    "    print(\"Confusion matrix:\")\n",
    "    print(conf_mat, \"\\n\")\n",
    "    \n",
    "def Predict(model, index):\n",
    "    pred_values = model(test_set_p[index])\n",
    "    pred_values = pred_values.detach().numpy()  # Convert the tensor to a numpy array\n",
    "    pred_labels = np.argmax(pred_values)  # Predicted labels\n",
    "    show_test_image(index)\n",
    "    print(\"Your prediction:\", names[pred_labels.item()],)"
   ]
  },
  {
   "cell_type": "code",
   "execution_count": 210,
   "metadata": {},
   "outputs": [
    {
     "name": "stdout",
     "output_type": "stream",
     "text": [
      "Epoch # 0\n",
      "Epoch # 1\n",
      "Epoch # 2\n",
      "Epoch # 3\n",
      "Epoch # 4\n",
      "Epoch # 5\n",
      "Epoch # 6\n",
      "Epoch # 7\n",
      "Epoch # 8\n",
      "Epoch # 9\n",
      "Epoch # 10\n",
      "Epoch # 11\n",
      "Epoch # 12\n",
      "Epoch # 13\n",
      "Epoch # 14\n",
      "Epoch # 15\n",
      "Epoch # 16\n",
      "Epoch # 17\n",
      "Epoch # 18\n",
      "Epoch # 19\n",
      "Epoch # 20\n",
      "Epoch # 21\n",
      "Epoch # 22\n",
      "Epoch # 23\n",
      "Epoch # 24\n",
      "Epoch # 25\n",
      "Epoch # 26\n",
      "Epoch # 27\n",
      "Epoch # 28\n",
      "Epoch # 29\n",
      "Epoch # 30\n",
      "Epoch # 31\n",
      "Epoch # 32\n",
      "Epoch # 33\n",
      "Epoch # 34\n",
      "Epoch # 35\n",
      "Epoch # 36\n",
      "Epoch # 37\n",
      "Epoch # 38\n",
      "Epoch # 39\n",
      "Epoch # 40\n",
      "Epoch # 41\n",
      "Epoch # 42\n",
      "Epoch # 43\n",
      "Epoch # 44\n",
      "Epoch # 45\n",
      "Epoch # 46\n",
      "Epoch # 47\n",
      "Epoch # 48\n",
      "Epoch # 49\n"
     ]
    }
   ],
   "source": [
    "# Train your network\n",
    "reader.init_seeds(42) # fix random seed\n",
    "importlib.reload(submitted)\n",
    "model, loss_fn, optimizer = submitted.fit(train_loader, test_loader, 50) # the last parameter is the number of epochs"
   ]
  },
  {
   "cell_type": "markdown",
   "metadata": {},
   "source": [
    "Let's print the output for a random image in testing set, note that the output varies on a network-by-network basis, so your network's output will probably be different from the one below. Since we have five categories, the output is a 5-dimensional tensor. The label 0 is the one with the largest value in the output tensor, therefore this image is classified by our model into label 0, which is a ship."
   ]
  },
  {
   "cell_type": "code",
   "execution_count": 211,
   "metadata": {},
   "outputs": [
    {
     "name": "stdout",
     "output_type": "stream",
     "text": [
      "tensor([17.7139,  0.0910,  8.0413,  0.0000,  0.0000], grad_fn=<ReluBackward0>)\n"
     ]
    },
    {
     "data": {
      "image/png": "[encoded data removed]",
      "text/plain": [
       "<Figure size 432x288 with 1 Axes>"
      ]
     },
     "metadata": {
      "needs_background": "light"
     },
     "output_type": "display_data"
    }
   ],
   "source": [
    "# Let's print the output for a random image in testing set\n",
    "index = 5\n",
    "show_test_image(index)\n",
    "\n",
    "output = model(test_set_p[index])\n",
    "print(output)"
   ]
  },
  {
   "cell_type": "code",
   "execution_count": 212,
   "metadata": {},
   "outputs": [
    {
     "name": "stdout",
     "output_type": "stream",
     "text": [
      "Accuracy: 0.6221985058697972\n",
      "Confusion matrix:\n",
      "[[150.  25.   8.   1.   6.]\n",
      " [ 31. 125.  14.  16.  16.]\n",
      " [ 11.  10. 113.  28.  24.]\n",
      " [  6.  10.  68.  89.  13.]\n",
      " [ 14.   6.  36.  11. 106.]] \n",
      "\n"
     ]
    }
   ],
   "source": [
    "# You can use the helper function to compute the accuracy and confusion matrix\n",
    "ComputeAccuracy(model)"
   ]
  },
  {
   "cell_type": "markdown",
   "metadata": {},
   "source": [
    "You can use the helper function to compare your network's prediction with the true label.\n",
    "\n",
    "Good prediction!"
   ]
  },
  {
   "cell_type": "code",
   "execution_count": 150,
   "metadata": {},
   "outputs": [
    {
     "name": "stdout",
     "output_type": "stream",
     "text": [
      "Your prediction: automobile\n"
     ]
    },
    {
     "data": {
      "image/png": "[encoded data removed]",
      "text/plain": [
       "<Figure size 432x288 with 1 Axes>"
      ]
     },
     "metadata": {
      "needs_background": "light"
     },
     "output_type": "display_data"
    }
   ],
   "source": [
    "# make predictions\n",
    "Predict(model, 24) # the number is the index of image in testing sets, feel free to change it"
   ]
  },
  {
   "cell_type": "markdown",
   "metadata": {},
   "source": [
    "Bad prediction!"
   ]
  },
  {
   "cell_type": "code",
   "execution_count": 151,
   "metadata": {},
   "outputs": [
    {
     "name": "stdout",
     "output_type": "stream",
     "text": [
      "Your prediction: automobile\n"
     ]
    },
    {
     "data": {
      "image/png": "[encoded data removed]",
      "text/plain": [
       "<Figure size 432x288 with 1 Axes>"
      ]
     },
     "metadata": {
      "needs_background": "light"
     },
     "output_type": "display_data"
    }
   ],
   "source": [
    "Predict(model, 23) # the number is the index of image in testing sets, feel free to change it"
   ]
  },
  {
   "cell_type": "markdown",
   "metadata": {},
   "source": [
    "<a id='section2'></a>"
   ]
  },
  {
   "cell_type": "markdown",
   "metadata": {},
   "source": [
    "<a id='grade'></a>\n",
    "## Grade your homework"
   ]
  },
  {
   "cell_type": "markdown",
   "metadata": {},
   "source": [
    "If you've reached this point, and all of the above sections work, then you're ready to try grading your homework!  Before you submit it to Gradescope, try grading it on your own machine.  This will run some visible test cases.\n",
    "\n",
    "The exclamation point (!) tells python to run the following as a shell command.  Obviously you don't need to run the code this way -- this usage is here just to remind you that you can also, if you wish, run this command in a terminal window."
   ]
  },
  {
   "cell_type": "code",
   "execution_count": 92,
   "metadata": {},
   "outputs": [
    {
     "name": "stdout",
     "output_type": "stream",
     "text": [
      "Traceback (most recent call last):\n",
      "  File \"/Users/aahanthapliyal/Desktop/CS440/mp04/grade.py\", line 2, in <module>\n",
      "    from gradescope_utils.autograder_utils.json_test_runner import JSONTestRunner\n",
      "ModuleNotFoundError: No module named 'gradescope_utils'\n"
     ]
    }
   ],
   "source": [
    "!python grade.py"
   ]
  },
  {
   "cell_type": "markdown",
   "metadata": {},
   "source": [
    "If you got any 'E' marks, it means that your code generated some runtime errors, and you need to debug those.\n",
    "\n",
    "If you got any 'F' marks, it means that your code ran without errors, but that it generated results that are different from the solutions.\n",
    "\n",
    "If neither of those things happened, and your result was a series of dots, then your code works perfectly.  \n",
    "\n",
    "If you're not sure, you can try running grade.py with the -j option.  This will produce a JSON results file, in which the best score you can get is 50."
   ]
  },
  {
   "cell_type": "markdown",
   "metadata": {},
   "source": [
    "Now you should try uploading `submitted.py` to <a href=\"https://www.gradescope.com/courses/486387\">Gradescope</a>.  \n",
    "\n",
    "Gradescope will run the same visible tests that you just ran on your own machine, plus some additional hidden tests.  It's possible that your code passes all the visible tests, but fails the hidden tests.  If that happens, then it probably means that you hard-coded a number into your function definition, instead of using the input parameter that you were supposed to use.  Debug by running your function with a variety of different input parameters, and see if you can get it to respond correctly in all cases.\n",
    "\n",
    "Once your code works perfectly on Gradescope, with no errors, then you are done with the MP.  Congratulations!"
   ]
  },
  {
   "cell_type": "markdown",
   "metadata": {},
   "source": [
    "<a id='extra'></a>\n",
    "## Extra credit\n",
    "\n",
    "You can earn extra credits worth 10% of this MP if the accuracy of your network is above `0.66`\n",
    "\n",
    "### Some tips:\n",
    "1. Choose a good activation function.\n",
    "2. L2 Regularization.\n",
    "3. Convolutional neural network."
   ]
  },
  {
   "cell_type": "markdown",
   "metadata": {},
   "source": [
    "<a id='section4'></a>"
   ]
  },
  {
   "cell_type": "markdown",
   "metadata": {},
   "source": [
    "<a id='grade'></a>"
   ]
  }
 ],
 "metadata": {
  "kernelspec": {
   "display_name": "Python 3 (ipykernel)",
   "language": "python",
   "name": "python3"
  },
  "language_info": {
   "codemirror_mode": {
    "name": "ipython",
    "version": 3
   },
   "file_extension": ".py",
   "mimetype": "text/x-python",
   "name": "python",
   "nbconvert_exporter": "python",
   "pygments_lexer": "ipython3",
   "version": "3.9.7"
  },
  "vscode": {
   "interpreter": {
    "hash": "7f16f2e4288cc371a5e4c652100da7568f2a44ce67812c6dc59e3353dfba0bc4"
   }
  }
 },
 "nbformat": 4,
 "nbformat_minor": 4
}
